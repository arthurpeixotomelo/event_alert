{
 "cells": [
  {
   "cell_type": "code",
   "execution_count": 38,
   "id": "f1591316",
   "metadata": {},
   "outputs": [],
   "source": [
    "from json import dumps, loads\n",
    "from datetime import datetime, timedelta\n",
    "from zoneinfo import ZoneInfo\n",
    "\n",
    "from requests import post, get"
   ]
  },
  {
   "cell_type": "markdown",
   "id": "bbae899f",
   "metadata": {},
   "source": [
    "# MEETUP"
   ]
  },
  {
   "cell_type": "code",
   "execution_count": null,
   "id": "55d6e232",
   "metadata": {},
   "outputs": [],
   "source": [
    "start_date_range = datetime.now(ZoneInfo('America/New_York')).__sub__(timedelta(days=1)).replace(hour=23, minute=0, second=0)\n",
    "end_date_range = start_date_range.__add__(timedelta(days=60)).replace(hour=23, minute=0, second=0)\n",
    "\n",
    "group_query = dumps({\n",
    "    'operationName': 'getRecommendedGroups', \n",
    "    'variables': {\n",
    "        'first': 200, 'lat': '-23.530000686645508', 'lon': '-46.630001068115234', \n",
    "        'topicCategoryId': '546', 'radius': 31, 'indexAlias': 'popular_groups_nearby_current'\n",
    "    },\n",
    "    'extensions': {\n",
    "        'persistedQuery': {'version': 1, 'sha256Hash': '2a95947caf3b4c2f961b505c94044dd0994c0e53234a6f21b971dc256d72160b'}\n",
    "    }\n",
    "})\n",
    "\n",
    "event_query = dumps({\n",
    "    'operationName': 'recommendedEventsWithSeries',\n",
    "    'variables': {\n",
    "        'first': 200, 'lat': '-23.530000686645508', 'lon': '-46.630001068115234',\n",
    "        'startDateRange': start_date_range.isoformat(timespec='seconds'), \n",
    "        'endDateRange': end_date_range.isoformat(timespec='seconds'),\n",
    "        'eventType': 'PHYSICAL', 'topicCategoryId': '546'\n",
    "    }, \n",
    "    'extensions': {\n",
    "        'persistedQuery': {'version': 1, 'sha256Hash': '4b0e4ad488864d476bd860c73ec1ac8fc5cd951b89c5cf6aeecf2cbb822c992d'}\n",
    "    }\n",
    "})\n",
    "\n",
    "def fetch_data(query_type):\n",
    "    body = loads(post('https://www.meetup.com/gql2', data=query_type).content)\n",
    "    if query_type == group_query:\n",
    "        return [\n",
    "            edge.get('node') for edge in body.get('data').get('results').get('edges')\n",
    "            if edge.get('node').get('stats').get('eventRatings').get('totalRatings') != 0\n",
    "            and not edge.get('node').get('isNewGroup')\n",
    "        ]\n",
    "    elif query_type == event_query:\n",
    "        return [edge.get('node') for edge in body.get('data').get('result').get('edges')]\n",
    "    \n",
    "def get_data(node, obj_type):\n",
    "    if obj_type == 'event':\n",
    "        return {\n",
    "            'id': node.get('id'), 'name': node.get('title'), \n",
    "            'description': node.get('description'), 'eventUrl': node.get('eventUrl'), \n",
    "            'eventPhoto': node.get('featuredEventPhoto').get('highResUrl').replace('.jpeg', '.avif'),\n",
    "            'dateTime': datetime.strptime(''.join(node.get('dateTime').rsplit(':', 1)), '%Y-%m-%dT%H:%M:%S%z'),\n",
    "            'venue': {\n",
    "                'address': node.get('venue').get('address'), 'city': node.get('venue').get('city'),\n",
    "                'state': node.get('venue').get('state')\n",
    "            }, 'groupID': node.get('group').get('id')\n",
    "        }\n",
    "    elif obj_type == 'group':\n",
    "        return {\n",
    "            'id': node.get('group').get('id'), 'name': node.get('group').get('name'), \n",
    "            'description': node.get('description'), 'groupUrl': node.get('link'), 'city': node.get('group').get('city'),\n",
    "            'groupPhoto': f'{node.get(\"groupPhoto\").get(\"baseUrl\")}{node.get(\"groupPhoto\").get(\"id\")}.avif',\n",
    "            'totalRatings': node.get('group').get('stats').get('eventRatings').get('totalRatings'),\n",
    "            'averageRatings': node.get('group').get('stats').get('eventRatings').get('average')\n",
    "        }"
   ]
  },
  {
   "cell_type": "markdown",
   "id": "218ce3c6",
   "metadata": {},
   "source": [
    "# GUILD"
   ]
  },
  {
   "cell_type": "code",
   "execution_count": null,
   "id": "7992a108",
   "metadata": {},
   "outputs": [
    {
     "ename": "NameError",
     "evalue": "name 'obj_type' is not defined",
     "output_type": "error",
     "traceback": [
      "\u001b[1;31m---------------------------------------------------------------------------\u001b[0m",
      "\u001b[1;31mNameError\u001b[0m                                 Traceback (most recent call last)",
      "Cell \u001b[1;32mIn[2], line 1\u001b[0m\n\u001b[1;32m----> 1\u001b[0m \u001b[38;5;28;01mif\u001b[39;00m \u001b[43mobj_type\u001b[49m \u001b[38;5;241m==\u001b[39m \u001b[38;5;124m'\u001b[39m\u001b[38;5;124mgroup\u001b[39m\u001b[38;5;124m'\u001b[39m:\n\u001b[0;32m      2\u001b[0m     {\n\u001b[0;32m      3\u001b[0m         \u001b[38;5;124m'\u001b[39m\u001b[38;5;124mid\u001b[39m\u001b[38;5;124m'\u001b[39m: node\u001b[38;5;241m.\u001b[39mget(\u001b[38;5;124m'\u001b[39m\u001b[38;5;124mgroup\u001b[39m\u001b[38;5;124m'\u001b[39m)\u001b[38;5;241m.\u001b[39mget(\u001b[38;5;124m'\u001b[39m\u001b[38;5;124mid\u001b[39m\u001b[38;5;124m'\u001b[39m), \u001b[38;5;124m'\u001b[39m\u001b[38;5;124mname\u001b[39m\u001b[38;5;124m'\u001b[39m: node\u001b[38;5;241m.\u001b[39mget(\u001b[38;5;124m'\u001b[39m\u001b[38;5;124mgroup\u001b[39m\u001b[38;5;124m'\u001b[39m)\u001b[38;5;241m.\u001b[39mget(\u001b[38;5;124m'\u001b[39m\u001b[38;5;124mname\u001b[39m\u001b[38;5;124m'\u001b[39m), \n\u001b[0;32m      4\u001b[0m         \u001b[38;5;124m'\u001b[39m\u001b[38;5;124mdescription\u001b[39m\u001b[38;5;124m'\u001b[39m: node\u001b[38;5;241m.\u001b[39mget(\u001b[38;5;124m'\u001b[39m\u001b[38;5;124mdescription\u001b[39m\u001b[38;5;124m'\u001b[39m), \u001b[38;5;124m'\u001b[39m\u001b[38;5;124mgroupUrl\u001b[39m\u001b[38;5;124m'\u001b[39m: node\u001b[38;5;241m.\u001b[39mget(\u001b[38;5;124m'\u001b[39m\u001b[38;5;124mlink\u001b[39m\u001b[38;5;124m'\u001b[39m), \u001b[38;5;124m'\u001b[39m\u001b[38;5;124mcity\u001b[39m\u001b[38;5;124m'\u001b[39m: node\u001b[38;5;241m.\u001b[39mget(\u001b[38;5;124m'\u001b[39m\u001b[38;5;124mgroup\u001b[39m\u001b[38;5;124m'\u001b[39m)\u001b[38;5;241m.\u001b[39mget(\u001b[38;5;124m'\u001b[39m\u001b[38;5;124mcity\u001b[39m\u001b[38;5;124m'\u001b[39m),\n\u001b[1;32m   (...)\u001b[0m\n\u001b[0;32m      7\u001b[0m         \u001b[38;5;124m'\u001b[39m\u001b[38;5;124maverageRatings\u001b[39m\u001b[38;5;124m'\u001b[39m: node\u001b[38;5;241m.\u001b[39mget(\u001b[38;5;124m'\u001b[39m\u001b[38;5;124mgroup\u001b[39m\u001b[38;5;124m'\u001b[39m)\u001b[38;5;241m.\u001b[39mget(\u001b[38;5;124m'\u001b[39m\u001b[38;5;124mstats\u001b[39m\u001b[38;5;124m'\u001b[39m)\u001b[38;5;241m.\u001b[39mget(\u001b[38;5;124m'\u001b[39m\u001b[38;5;124meventRatings\u001b[39m\u001b[38;5;124m'\u001b[39m)\u001b[38;5;241m.\u001b[39mget(\u001b[38;5;124m'\u001b[39m\u001b[38;5;124maverage\u001b[39m\u001b[38;5;124m'\u001b[39m)\n\u001b[0;32m      8\u001b[0m     }\n",
      "\u001b[1;31mNameError\u001b[0m: name 'obj_type' is not defined"
     ]
    }
   ],
   "source": [
    "# add others plataforms"
   ]
  }
 ],
 "metadata": {
  "kernelspec": {
   "display_name": "Python 3",
   "language": "python",
   "name": "python3"
  },
  "language_info": {
   "codemirror_mode": {
    "name": "ipython",
    "version": 3
   },
   "file_extension": ".py",
   "mimetype": "text/x-python",
   "name": "python",
   "nbconvert_exporter": "python",
   "pygments_lexer": "ipython3",
   "version": "3.9.13"
  }
 },
 "nbformat": 4,
 "nbformat_minor": 5
}
